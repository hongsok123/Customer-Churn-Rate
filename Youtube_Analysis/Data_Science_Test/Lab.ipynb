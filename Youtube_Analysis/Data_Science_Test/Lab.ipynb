{
 "cells": [
  {
   "cell_type": "code",
   "execution_count": 1,
   "id": "f92ce7cb-4f83-484c-b703-4f62e00f9fad",
   "metadata": {},
   "outputs": [
    {
     "data": {
      "text/plain": [
       "5.0"
      ]
     },
     "execution_count": 1,
     "metadata": {},
     "output_type": "execute_result"
    }
   ],
   "source": [
    " #Question01\n",
    " 5 + 4 * 9 % (3 + 1) / (6 -1)"
   ]
  },
  {
   "cell_type": "code",
   "execution_count": null,
   "id": "ed43d05a-bf37-47f9-b5d2-78697edf17bb",
   "metadata": {},
   "outputs": [],
   "source": [
    "#Question2\n",
    "num = int(input(\"Enter your number\"))\n",
    "if num % 2 == 0 :\n",
    "    print( num, \"It's the even number\")\n",
    "else :\n",
    "    print(num, \"It's the odd number\")"
   ]
  },
  {
   "cell_type": "code",
   "execution_count": null,
   "id": "49eadf0b-085e-40bd-8f55-11f3cf52262f",
   "metadata": {},
   "outputs": [],
   "source": [
    "#Question3\n",
    "for i in range(1,11,1):\n",
    "    multi = 5*i \n",
    "    print(\"5\" + \"x\" + str(i) + \"=\" + str(multi))"
   ]
  },
  {
   "cell_type": "code",
   "execution_count": null,
   "id": "cc033f80-84d3-441a-92f5-4992ef5308ab",
   "metadata": {},
   "outputs": [],
   "source": [
    "#WQuestion4\n",
    "for i in range(2000, 3000) :\n",
    "    if i %7 == 0 and i%5 != 0 :\n",
    "        print(\"Result\", \"is\",i)"
   ]
  },
  {
   "cell_type": "code",
   "execution_count": null,
   "id": "6d94e74e-b7a1-4ee7-9c75-867b92414555",
   "metadata": {},
   "outputs": [],
   "source": [
    "#Question5\n",
    "data = [2, 3, 'Py', '10', 1, 'SQL', 5.5, True, 3, 'John', None, 7] \n",
    "for i in data : \n",
    "    result = data.count(i)\n",
    "    print(i , \"is\", result)"
   ]
  },
  {
   "cell_type": "code",
   "execution_count": null,
   "id": "747375e7-f824-4cb1-91ea-5f7c11f7118f",
   "metadata": {},
   "outputs": [],
   "source": [
    "#Question6\n",
    "def is_int(x):\n",
    "    return type(x) is int or type(x) is float \n",
    "print(sum(filter(is_int, data)))"
   ]
  },
  {
   "cell_type": "code",
   "execution_count": null,
   "id": "9c07d638-99f6-4cc2-a91a-4f77366a14f7",
   "metadata": {},
   "outputs": [],
   "source": [
    "#Question7\n",
    "new_data = []\n",
    "for i in data:\n",
    "    # check for type is str\n",
    "    if(type(i) is str):\n",
    "        # display index\n",
    "        new_data.append(i)\n",
    "print(\"-\".join(new_data))"
   ]
  },
  {
   "cell_type": "code",
   "execution_count": null,
   "id": "8201d62f-e9bd-484d-bf48-d3b084737e04",
   "metadata": {},
   "outputs": [],
   "source": [
    "#Question8\n",
    "def my_function(x):\n",
    "    num = []\n",
    "    val_str = []\n",
    "    for i in x: \n",
    "        if(type(i) is int or type(i) is float):\n",
    "        # display index\n",
    "            num.append(i)\n",
    "        elif(type(i) is str) :\n",
    "            val_str.append(i)\n",
    "    return {'Sum': sum(num),  'Count_of_str' : len(val_str)}\n",
    "result = my_function(data)\n",
    "print(result)"
   ]
  },
  {
   "cell_type": "code",
   "execution_count": null,
   "id": "09561791-90ce-4a21-9b04-ea0f075735ce",
   "metadata": {},
   "outputs": [],
   "source": [
    "#Question9\n",
    "odd=[]\n",
    "li = [5, 7, 22, 97, 54, 62, 77, 23, 73, 61]\n",
    "for x in li:\n",
    "    if x % 2 != 0 :\n",
    "        odd.append(x)\n",
    "print(odd)"
   ]
  },
  {
   "cell_type": "code",
   "execution_count": null,
   "id": "cdaeed0c-b44f-49ec-8157-7359b3a76614",
   "metadata": {},
   "outputs": [],
   "source": [
    "#Question 10\n",
    "l1 = ['January', 'February', 'March', 'May', 'June', 'September', 'December']\n",
    "l2 = ['January', 'February', 'April', 'June', 'October', 'December']\n",
    "\n",
    "def my_function(x1, y1):\n",
    "    return {'Matched': list(filter(lambda x : x in y1, x1)),\n",
    "            'Only in l1': list(filter(lambda x: x not in y1, x1)),\n",
    "            'Only in l2': list(filter(lambda x: x not in x1, y1))\n",
    "           }\n",
    "print(my_function(l1, l2))"
   ]
  },
  {
   "cell_type": "code",
   "execution_count": null,
   "id": "29e80166-41a3-412a-983a-df1dd56dfe67",
   "metadata": {},
   "outputs": [],
   "source": [
    "import numpy as np "
   ]
  },
  {
   "cell_type": "code",
   "execution_count": null,
   "id": "3f70d1ae-844b-4a10-880c-106affce80a7",
   "metadata": {},
   "outputs": [],
   "source": [
    "data = np.loadtxt(\"the_save.txt\", usecols= 1, dtype = str, skiprows = 1 )\n",
    "for each in data :\n",
    "    print(each)"
   ]
  },
  {
   "cell_type": "code",
   "execution_count": null,
   "id": "a9cc35ca-2c72-4655-89ae-e1f067f8c252",
   "metadata": {},
   "outputs": [],
   "source": [
    "gend = np.genfromtxt(\"the_hoh.txt\", delimiter = \",\", dtype = str, encoding = None, skip_footer = 1) \n",
    "for each in gend:\n",
    "    print(each)"
   ]
  },
  {
   "cell_type": "code",
   "execution_count": null,
   "id": "b0323128-865c-4b82-ad7f-f1f111ecb0a6",
   "metadata": {},
   "outputs": [],
   "source": [
    "num = (1,2,3,4)\n",
    "new_num = map(lambda x: x + 10, num)\n",
    "print(list(new_num))\n",
    "np.shape(num)"
   ]
  },
  {
   "cell_type": "code",
   "execution_count": null,
   "id": "fdc2e500-f4be-4130-9d66-4978cd36e44e",
   "metadata": {},
   "outputs": [],
   "source": [
    "\n",
    "from datetime import datetime\n",
    "\n",
    "now = datetime.now() # current date and time\n",
    "\n",
    "year = now.strftime(\"%Y\")\n",
    "print(\"year:\", year)\n",
    "\n",
    "month = now.strftime(\"%m\")\n",
    "print(\"month:\", month)\n",
    "\n",
    "day = now.strftime(\"%d\")\n",
    "print(\"day:\", day)\n",
    "\n",
    "time = now.strftime(\"%H:%M:%S\")\n",
    "print(\"time:\", time)\n",
    "\n",
    "date_time = now.strftime(\"%m/%d/%Y, %H:%M:%S\")\n",
    "print(\"date and time:\",date_time)"
   ]
  },
  {
   "cell_type": "code",
   "execution_count": null,
   "id": "0508f61b-05d6-427e-bb18-63e0425572ae",
   "metadata": {},
   "outputs": [],
   "source": []
  }
 ],
 "metadata": {
  "kernelspec": {
   "display_name": "Python 3 (ipykernel)",
   "language": "python",
   "name": "python3"
  },
  "language_info": {
   "codemirror_mode": {
    "name": "ipython",
    "version": 3
   },
   "file_extension": ".py",
   "mimetype": "text/x-python",
   "name": "python",
   "nbconvert_exporter": "python",
   "pygments_lexer": "ipython3",
   "version": "3.10.5"
  }
 },
 "nbformat": 4,
 "nbformat_minor": 5
}
