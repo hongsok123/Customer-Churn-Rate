{
 "cells": [
  {
   "cell_type": "code",
   "execution_count": 4,
   "id": "fc3de73d-1f72-42db-a569-4bd61643ca92",
   "metadata": {},
   "outputs": [],
   "source": [
    "import numpy as np \n",
    "import pandas as pd "
   ]
  },
  {
   "cell_type": "code",
   "execution_count": null,
   "id": "d07484c4-63bb-4cda-9324-f597ad5ddfdb",
   "metadata": {},
   "outputs": [],
   "source": [
    "list = [3, 5, 6, 7, 8,9]\n",
    "arr = np.array(list)\n",
    "arr"
   ]
  },
  {
   "cell_type": "code",
   "execution_count": null,
   "id": "bdb1629b-38a6-4dbf-b07a-f60cc0c0375c",
   "metadata": {},
   "outputs": [],
   "source": [
    "a = np.arange(9).reshape(3,3)\n",
    "a"
   ]
  },
  {
   "cell_type": "code",
   "execution_count": 5,
   "id": "a5c81641-2409-4a17-b120-c6b65fd03217",
   "metadata": {},
   "outputs": [
    {
     "data": {
      "text/plain": [
       "array([[20, 21, 22],\n",
       "       [23, 24, 25],\n",
       "       [26, 27, 28]])"
      ]
     },
     "execution_count": 5,
     "metadata": {},
     "output_type": "execute_result"
    }
   ],
   "source": [
    "a = np.arange(10,19).reshape(3,3)\n",
    "a + 10 "
   ]
  },
  {
   "cell_type": "code",
   "execution_count": null,
   "id": "548a35e1-3cda-497e-af38-647e4365955d",
   "metadata": {},
   "outputs": [],
   "source": [
    "a1 = np.random.randint(10,100,20)\n",
    "a1"
   ]
  },
  {
   "cell_type": "code",
   "execution_count": null,
   "id": "d4fee344-bdd4-47a2-80a1-5a1aacee7fd5",
   "metadata": {},
   "outputs": [],
   "source": [
    "a2 = a1.reshape(4,5)\n",
    "a2"
   ]
  },
  {
   "cell_type": "code",
   "execution_count": null,
   "id": "ff5b608d-3302-402f-9557-79ea43b80442",
   "metadata": {},
   "outputs": [],
   "source": [
    "a2.ndim"
   ]
  },
  {
   "cell_type": "code",
   "execution_count": null,
   "id": "b0f41050-d074-4744-a687-47f5bc7d8773",
   "metadata": {},
   "outputs": [],
   "source": [
    "a1[3]"
   ]
  },
  {
   "cell_type": "code",
   "execution_count": null,
   "id": "e57194b9-a3e0-4ddb-974c-88a0e478036d",
   "metadata": {},
   "outputs": [],
   "source": [
    "a2[0]"
   ]
  },
  {
   "cell_type": "code",
   "execution_count": null,
   "id": "a6c6fce8-7cfa-451e-8f1d-f1c1420b24ed",
   "metadata": {},
   "outputs": [],
   "source": [
    "a2[3:4, 4]"
   ]
  },
  {
   "cell_type": "code",
   "execution_count": null,
   "id": "1e62c122-bd43-40f7-a567-76c92ca14a2b",
   "metadata": {},
   "outputs": [],
   "source": [
    "a2[3,4]"
   ]
  },
  {
   "cell_type": "code",
   "execution_count": null,
   "id": "f928eb31-c79e-4604-a40a-b2f21d3f8cdd",
   "metadata": {},
   "outputs": [],
   "source": [
    "a1[a1 < 50 ]"
   ]
  },
  {
   "cell_type": "code",
   "execution_count": null,
   "id": "2ef89488-3617-4aa8-ab33-70e4e030448e",
   "metadata": {},
   "outputs": [],
   "source": [
    "a1[(a1 < 0 ) & (a1 < 50)]"
   ]
  },
  {
   "cell_type": "code",
   "execution_count": null,
   "id": "8cf95b62-93ad-4475-8e7c-261a2aa3354b",
   "metadata": {},
   "outputs": [],
   "source": [
    "a2[(a2 < 10 ) | (a2 > 70)]"
   ]
  },
  {
   "cell_type": "code",
   "execution_count": null,
   "id": "4dd71c46-59be-4198-b245-9391039e8537",
   "metadata": {},
   "outputs": [],
   "source": [
    "a2.sum()"
   ]
  },
  {
   "cell_type": "code",
   "execution_count": null,
   "id": "ddd54ef3-0dfb-4f3b-aa68-c0126dcbf174",
   "metadata": {},
   "outputs": [],
   "source": [
    "a2[0].sum()"
   ]
  },
  {
   "cell_type": "code",
   "execution_count": null,
   "id": "0f7b0b99-72a8-493a-92ef-0ef1ab1d9277",
   "metadata": {},
   "outputs": [],
   "source": [
    "a2.mean()"
   ]
  },
  {
   "cell_type": "code",
   "execution_count": null,
   "id": "da1fc969-4323-4970-ab48-88b069b86604",
   "metadata": {},
   "outputs": [],
   "source": [
    "a2.std()"
   ]
  },
  {
   "cell_type": "code",
   "execution_count": null,
   "id": "1fab8cc5-4eb5-4693-854a-df134b1544fe",
   "metadata": {},
   "outputs": [],
   "source": [
    "a2.max()"
   ]
  },
  {
   "cell_type": "markdown",
   "id": "48642a68-babb-48d3-8dcb-54774d755f33",
   "metadata": {},
   "source": [
    "to use pandas : \n",
    "import pandas as pd \n",
    "\n",
    "Data Structure of pandas \n",
    " 1. Serie:\n",
    "    1 D : homegeneous, allow broadcasting and vectorization \n",
    "    \n",
    " 2. DataFrame : \n",
    "    2D, hetrogeneous, allow broadcasting and vectorization"
   ]
  },
  {
   "cell_type": "code",
   "execution_count": 3,
   "id": "3263b1e7-2cf9-48a2-905b-3298d7417b7a",
   "metadata": {},
   "outputs": [
    {
     "data": {
      "text/plain": [
       "0    10\n",
       "1    20\n",
       "2    30\n",
       "3    40\n",
       "dtype: int64"
      ]
     },
     "execution_count": 3,
     "metadata": {},
     "output_type": "execute_result"
    }
   ],
   "source": [
    "import pandas as pd\n",
    "\n",
    "list1= [10,20,30,40]\n",
    "s1= pd.Series(list1)\n",
    "s1"
   ]
  },
  {
   "cell_type": "code",
   "execution_count": 6,
   "id": "ddfe7784-1fe7-4538-b80b-fb192606b2ae",
   "metadata": {},
   "outputs": [
    {
     "data": {
      "text/html": [
       "<div>\n",
       "<style scoped>\n",
       "    .dataframe tbody tr th:only-of-type {\n",
       "        vertical-align: middle;\n",
       "    }\n",
       "\n",
       "    .dataframe tbody tr th {\n",
       "        vertical-align: top;\n",
       "    }\n",
       "\n",
       "    .dataframe thead th {\n",
       "        text-align: right;\n",
       "    }\n",
       "</style>\n",
       "<table border=\"1\" class=\"dataframe\">\n",
       "  <thead>\n",
       "    <tr style=\"text-align: right;\">\n",
       "      <th></th>\n",
       "      <th>0</th>\n",
       "    </tr>\n",
       "  </thead>\n",
       "  <tbody>\n",
       "    <tr>\n",
       "      <th>0</th>\n",
       "      <td>10</td>\n",
       "    </tr>\n",
       "    <tr>\n",
       "      <th>1</th>\n",
       "      <td>20</td>\n",
       "    </tr>\n",
       "    <tr>\n",
       "      <th>2</th>\n",
       "      <td>30</td>\n",
       "    </tr>\n",
       "    <tr>\n",
       "      <th>3</th>\n",
       "      <td>40</td>\n",
       "    </tr>\n",
       "  </tbody>\n",
       "</table>\n",
       "</div>"
      ],
      "text/plain": [
       "    0\n",
       "0  10\n",
       "1  20\n",
       "2  30\n",
       "3  40"
      ]
     },
     "execution_count": 6,
     "metadata": {},
     "output_type": "execute_result"
    }
   ],
   "source": [
    "s2= pd.DataFrame(list1)\n",
    "s2"
   ]
  },
  {
   "cell_type": "code",
   "execution_count": 19,
   "id": "957f6fec-7cdd-42a6-b536-b525c0313198",
   "metadata": {},
   "outputs": [
    {
     "data": {
      "text/html": [
       "<div>\n",
       "<style scoped>\n",
       "    .dataframe tbody tr th:only-of-type {\n",
       "        vertical-align: middle;\n",
       "    }\n",
       "\n",
       "    .dataframe tbody tr th {\n",
       "        vertical-align: top;\n",
       "    }\n",
       "\n",
       "    .dataframe thead th {\n",
       "        text-align: right;\n",
       "    }\n",
       "</style>\n",
       "<table border=\"1\" class=\"dataframe\">\n",
       "  <thead>\n",
       "    <tr style=\"text-align: right;\">\n",
       "      <th></th>\n",
       "      <th>0</th>\n",
       "    </tr>\n",
       "  </thead>\n",
       "  <tbody>\n",
       "    <tr>\n",
       "      <th>1</th>\n",
       "      <td>10</td>\n",
       "    </tr>\n",
       "    <tr>\n",
       "      <th>2</th>\n",
       "      <td>20</td>\n",
       "    </tr>\n",
       "    <tr>\n",
       "      <th>3</th>\n",
       "      <td>30</td>\n",
       "    </tr>\n",
       "    <tr>\n",
       "      <th>4</th>\n",
       "      <td>40</td>\n",
       "    </tr>\n",
       "  </tbody>\n",
       "</table>\n",
       "</div>"
      ],
      "text/plain": [
       "    0\n",
       "1  10\n",
       "2  20\n",
       "3  30\n",
       "4  40"
      ]
     },
     "execution_count": 19,
     "metadata": {},
     "output_type": "execute_result"
    }
   ],
   "source": [
    "s2 = pd.Series(list1, index = range(1,5))\n",
    "s2"
   ]
  },
  {
   "cell_type": "code",
   "execution_count": null,
   "id": "be878588-f250-4361-bf83-bc181b44094d",
   "metadata": {},
   "outputs": [],
   "source": []
  }
 ],
 "metadata": {
  "kernelspec": {
   "display_name": "Python 3 (ipykernel)",
   "language": "python",
   "name": "python3"
  },
  "language_info": {
   "codemirror_mode": {
    "name": "ipython",
    "version": 3
   },
   "file_extension": ".py",
   "mimetype": "text/x-python",
   "name": "python",
   "nbconvert_exporter": "python",
   "pygments_lexer": "ipython3",
   "version": "3.10.5"
  }
 },
 "nbformat": 4,
 "nbformat_minor": 5
}
